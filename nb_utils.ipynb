{
 "cells": [
  {
   "cell_type": "code",
   "execution_count": 2,
   "metadata": {},
   "outputs": [],
   "source": [
    "from langgraph.prebuilt import create_react_agent\n",
    "from langchain_core.tools import tool\n",
    "from openai import OpenAI\n",
    "client = OpenAI()"
   ]
  },
  {
   "cell_type": "code",
   "execution_count": null,
   "metadata": {},
   "outputs": [],
   "source": [
    "\n",
    "\n",
    "def get_embedding(text, client):\n",
    "    response = client.embeddings.create(\n",
    "        input = text,\n",
    "        model = \"text-embedding-3-small\")\n",
    "    return response.data[0].embedding\n",
    "\n",
    "#usage\n",
    "\n",
    "emb = get_embedding(\"hello\", client)"
   ]
  },
  {
   "cell_type": "code",
   "execution_count": 7,
   "metadata": {},
   "outputs": [
    {
     "data": {
      "text/plain": [
       "\"La sesta battaglia dell'Isonzo, nota anche come la presa di Gorizia, si svolse dal 4 al 17 agosto 1916 sul fronte italiano della Prima Guerra Mondiale, tra il Regio Esercito italiano guidato dal generale Luigi Cadorna e l'esercito austro-ungarico sotto il generale Franz Conrad von Hötzendorf. Originariamente prevista per giugno, la battaglia fu posticipata a causa dell'offensiva austro-ungarica in Tirolo di maggio 1916, che mirava a invadere la pianura veneta e tagliare le retrovie delle forze italiane.\""
      ]
     },
     "execution_count": 7,
     "metadata": {},
     "output_type": "execute_result"
    }
   ],
   "source": [
    "def get_summary(text, client):\n",
    "    \n",
    "    completion = client.chat.completions.create(\n",
    "    model=\"gpt-4o\",\n",
    "    messages=[\n",
    "        {\"role\": \"developer\", \"content\": \"You are a helpful assistant. You will be given a text and you will summarize it. Provide only the summary of the text without any additional information.\"},\n",
    "        {\n",
    "            \"role\": \"user\",\n",
    "            \"content\": f\"TEXT: {text}\"\n",
    "        }\n",
    "    ]\n",
    "    )\n",
    "\n",
    "    return completion.choices[0].message.content\n",
    "\n",
    "text = \"La sesta battaglia dell'Isonzo, conosciuta anche come battaglia o presa di Gorizia, fu combattuta dal 4 al 17 agosto 1916 sul fronte italiano della prima guerra mondiale, e vide contrapposti il Regio Esercito italiano al comando del generale Luigi Cadorna e l'Imperiale e regio esercito austro-ungarico al comando del generale Franz Conrad von Hötzendorf.Inizialmente prevista per metà giugno, Cadorna dovette rinviare l'inizio della Sesta battaglia dell'Isonzo a causa dell'inaspettata offensiva austro-ungarica in Tirolo del maggio 1916, la Südtiroloffensive. Sferrata a maggio da Conrad, l'offensiva mirava ad invadere la pianura veneta sfondando le linee italiane dal saliente Trentino, con lo scopo di prendere alle spalle e tagliare la ritirata al grosso dell'esercito italiano stanziato quasi interamente lungo il medio e basso Isonzo, giungendo in questo modo alla fine della\"\n",
    "\n",
    "get_summary(text, client)"
   ]
  },
  {
   "cell_type": "code",
   "execution_count": null,
   "metadata": {},
   "outputs": [],
   "source": [
    "### generazione chunk contestualizzati (migliora la ricerca):\n",
    "# 1. generare un riassunto dell'intero documento\n",
    "# 2. strutturare un prompt con il riassunto dell'intero documento, il chunk da contestualizzare e gli N chunk precedenti (e successivi?)\n",
    "# 3. dare istruzioni al modello di generare un riassunto del chunk utilizzando il contesto fornito\n",
    "# 4. fare embedding del riassunto del chunk (sia bm25 che gpt)\n",
    "# 5. utilizzare embedding per rag\n",
    "\n",
    "#### rispondere a domande complesse\n",
    "# 1. prendere la domanda e scomporla in step\n",
    "# 2. utilizzare il react agent per generare una risposta per ogni step\n",
    "# 3. combinare le risposte in una risposta complessiva\n",
    "\n",
    "### funzionamento react agent\n",
    "# 1. il react agent ha a sua disposizione 2 tool\n",
    "# 1.1 il tool che data una domanda fa il retrival dei top K chunks dall'intero corpus di documenti\n",
    "# 1.2 il tool che dato un documento e un id di chunk, fornisce una porzione di documento intorno al chunk e il riassunto del documento\n",
    "# 2. ci si aspetta che il funzionamento atteso del react agent sia il seguente:\n",
    "# 2.1 il react agent riceve una domanda\n",
    "# 2.2 il react agent utilizza il tool 1 per recuperare i top K chunks\n",
    "# 2.3 il react agent utilizza il tool 2 per recuperare il contesto del chunk\n",
    "# 2.4 se il contesto basta per rispondere alla domanda il react agent risponde, altrimenti chiede al tool 1 di recuperare altri chunks oppure richiede il contesto di altri chunk"
   ]
  }
 ],
 "metadata": {
  "kernelspec": {
   "display_name": "hakapizza",
   "language": "python",
   "name": "python3"
  },
  "language_info": {
   "codemirror_mode": {
    "name": "ipython",
    "version": 3
   },
   "file_extension": ".py",
   "mimetype": "text/x-python",
   "name": "python",
   "nbconvert_exporter": "python",
   "pygments_lexer": "ipython3",
   "version": "3.11.11"
  }
 },
 "nbformat": 4,
 "nbformat_minor": 2
}
