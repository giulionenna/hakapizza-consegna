{
 "cells": [
  {
   "cell_type": "code",
   "execution_count": 2,
   "metadata": {},
   "outputs": [
    {
     "name": "stdout",
     "output_type": "stream",
     "text": [
      "Defaulting to user installation because normal site-packages is not writeable\n",
      "Requirement already satisfied: pymongo in c:\\users\\at.drago\\appdata\\roaming\\python\\python312\\site-packages (4.10.1)\n",
      "Requirement already satisfied: dnspython<3.0.0,>=1.16.0 in c:\\users\\at.drago\\appdata\\roaming\\python\\python312\\site-packages (from pymongo) (2.7.0)\n"
     ]
    },
    {
     "name": "stderr",
     "output_type": "stream",
     "text": [
      "\n",
      "[notice] A new release of pip is available: 24.2 -> 24.3.1\n",
      "[notice] To update, run: python.exe -m pip install --upgrade pip\n"
     ]
    },
    {
     "name": "stdout",
     "output_type": "stream",
     "text": [
      "Defaulting to user installation because normal site-packages is not writeable\n",
      "Requirement already satisfied: PyPDF2 in c:\\users\\at.drago\\appdata\\roaming\\python\\python312\\site-packages (3.0.1)\n"
     ]
    },
    {
     "name": "stderr",
     "output_type": "stream",
     "text": [
      "\n",
      "[notice] A new release of pip is available: 24.2 -> 24.3.1\n",
      "[notice] To update, run: python.exe -m pip install --upgrade pip\n"
     ]
    }
   ],
   "source": [
    "!pip install pymongo\n",
    "!pip install PyPDF2"
   ]
  },
  {
   "cell_type": "code",
   "execution_count": 1,
   "metadata": {},
   "outputs": [],
   "source": [
    "import openai"
   ]
  },
  {
   "cell_type": "code",
   "execution_count": 2,
   "metadata": {},
   "outputs": [],
   "source": [
    "\n",
    "from json_schema_extractor import *\n"
   ]
  },
  {
   "cell_type": "code",
   "execution_count": 49,
   "metadata": {},
   "outputs": [],
   "source": [
    "from json_schema_extractor import JSONSchemaExtractorAgent\n",
    "import os\n",
    "import json_schema_extractor \n",
    "\n",
    "from ibm_watsonx_ai import Credentials\n",
    "from ibm_watsonx_ai.foundation_models import ModelInference\n",
    "\n",
    "import importlib\n",
    "importlib.reload(json_schema_extractor)\n",
    "from json_schema_extractor import JSONSchemaExtractorAgent\n",
    "\n"
   ]
  },
  {
   "cell_type": "code",
   "execution_count": 34,
   "metadata": {},
   "outputs": [],
   "source": [
    "ENDPOINT_URL=\"https://us-south.ml.cloud.ibm.com\"\n",
    "API_KEY=\"edsLkpMKNcg95Ts1Lfuvv3w2_K4kL5owh97pTjpAdOuJ\"\n",
    "PROJECT_ID=\"4f651d94-e286-4726-b84b-0df69a71dfd3\"\n",
    "\n",
    "credentials = Credentials(\n",
    "    url=ENDPOINT_URL,\n",
    "    api_key=API_KEY\n",
    ")"
   ]
  },
  {
   "cell_type": "code",
   "execution_count": 35,
   "metadata": {},
   "outputs": [],
   "source": [
    "SUB_FOLDER = \"Menu\""
   ]
  },
  {
   "cell_type": "code",
   "execution_count": 36,
   "metadata": {},
   "outputs": [],
   "source": [
    "MAIN_FOLDER = f\"Hackapizza Dataset/{SUB_FOLDER}/\""
   ]
  },
  {
   "cell_type": "code",
   "execution_count": 37,
   "metadata": {},
   "outputs": [],
   "source": [
    "model = ModelInference(\n",
    "    model_id=\"meta-llama/llama-3-3-70b-instruct\", \n",
    "    credentials=credentials,\n",
    "    project_id=PROJECT_ID,\n",
    "   )"
   ]
  },
  {
   "cell_type": "code",
   "execution_count": 38,
   "metadata": {},
   "outputs": [],
   "source": [
    "openai_m = openai.OpenAI()"
   ]
  },
  {
   "cell_type": "code",
   "execution_count": 53,
   "metadata": {},
   "outputs": [],
   "source": [
    "menu_json_extractor = JSONSchemaExtractorAgent(MAIN_FOLDER,\n",
    "                                               openai_m,\n",
    "                                               n_files=3,\n",
    "                                               main_prompt=\"Stai analizzando un insieme di documenti su dei ristoranti fantastici ambientati in una galassia immaginaria. Il tuo obiettivo è estrarre uno schema JSON che rappresenti i dati principali di questi documenti.Non popolare i campi del json rispondi solo con lo schema\"\n",
    "                                               ,openai_model=\"gpt-4o\")\n",
    "menu_schema = menu_json_extractor.extract_json_schema()\n"
   ]
  },
  {
   "cell_type": "code",
   "execution_count": 41,
   "metadata": {},
   "outputs": [
    {
     "name": "stdout",
     "output_type": "stream",
     "text": [
      "```json\n",
      "{\n",
      "  \"restaurants\": [\n",
      "    {\n",
      "      \"name\": \"\",\n",
      "      \"galaxy\": \"\",\n",
      "      \"planet\": \"\",\n",
      "      \"chef\": {\n",
      "        \"name\": \"\",\n",
      "        \"alias\": \"\",\n",
      "        \"background\": \"\",\n",
      "        \"specialSkills\": {\n",
      "          \"Psionica\": \"\",\n",
      "          \"Temporale\": \"\",\n",
      "          \"Gravitazionale\": \"\",\n",
      "          \"Antimateria\": \"\",\n",
      "          \"Quantistica\": \"\",\n",
      "          \"Luce\": \"\",\n",
      "          \"LivelloTecnologico\": \"\",\n",
      "          \"Magnetica\": \"\",\n",
      "          \"otherSkills\": []\n",
      "        },\n",
      "        \"culinaryAchievements\": \"\",\n",
      "        \"education\": \"\",\n",
      "        \"experience\": []\n",
      "      },\n",
      "      \"location\": {\n",
      "        \"environment\": \"\",\n",
      "        \"dimension\": \"\"\n",
      "      },\n",
      "      \"cuisine\": {\n",
      "        \"type\": \"\",\n",
      "        \"inspirations\": []\n",
      "      },\n",
      "      \"established\": \"\",\n",
      "      \"technologyLevel\": \"\",\n",
      "      \"menu\": [\n",
      "        {\n",
      "          \"name\": \"\",\n",
      "          \"signatureDish\": false,\n",
      "          \"description\": \"\",\n",
      "          \"ingredients\": [\n",
      "            {\n",
      "              \"name\": \"\",\n",
      "              \"origin\": \"\"\n",
      "            }\n",
      "          ],\n",
      "          \"techniques\": [\n",
      "            {\n",
      "              \"name\": \"\",\n",
      "              \"effect\": \"\"\n",
      "            }\n",
      "          ],\n",
      "          \"pairings\": [\n",
      "            {\n",
      "              \"beverage\": \"\",\n",
      "              \"notes\": \"\"\n",
      "            }\n",
      "          ],\n",
      "          \"price\": \"\",\n",
      "          \"notes\": \"\"\n",
      "        }\n",
      "      ],\n",
      "      \"concept\": \"\",\n",
      "      \"additionalFeatures\": [\n",
      "        {\n",
      "          \"feature\": \"\",\n",
      "          \"description\": \"\"\n",
      "        }\n",
      "      ],\n",
      "      \"awards\": [\n",
      "        {\n",
      "          \"name\": \"\",\n",
      "          \"year\": \"\"\n",
      "        }\n",
      "      ],\n",
      "      \"affiliations\": [\n",
      "        {\n",
      "          \"order\": \"\",\n",
      "          \"symbol\": \"\"\n",
      "        }\n",
      "      ],\n",
      "      \"reservationRequirements\": {\n",
      "        \"noticePeriod\": \"\",\n",
      "        \"allowedPayments\": [],\n",
      "        \"specialConditions\": \"\"\n",
      "      },\n",
      "      \"ambiance\": {\n",
      "        \"themes\": [],\n",
      "        \"uniqueAspects\": []\n",
      "      }\n",
      "    }\n",
      "  ]\n",
      "}\n",
      "```\n"
     ]
    }
   ],
   "source": [
    "import os\n",
    "os.makedirs(\"output\", exist_ok=True,)\n",
    "os.makedirs(f\"output/{SUB_FOLDER}\", exist_ok=True)\n",
    "with open(f\"output/{SUB_FOLDER}/schema.json\", \"w\") as f:\n",
    "    f.write(menu_schema)\n",
    "print(menu_schema)"
   ]
  },
  {
   "cell_type": "markdown",
   "metadata": {},
   "source": [
    "## Generate descripitons"
   ]
  },
  {
   "cell_type": "code",
   "execution_count": 67,
   "metadata": {},
   "outputs": [],
   "source": [
    "SUB_FOLDER = \"Menu\"\n",
    "MAIN_FOLDER = f\"Hackapizza Dataset/{SUB_FOLDER}/\"\n",
    "importlib.reload(json_schema_extractor)\n",
    "from json_schema_extractor import JSONSchemaExtractorAgent"
   ]
  },
  {
   "cell_type": "code",
   "execution_count": 76,
   "metadata": {},
   "outputs": [
    {
     "name": "stdout",
     "output_type": "stream",
     "text": [
      "Generating collection description for document number:  3\n",
      "Using OpenAI model...\n",
      "Generating collection description for document number:  6\n",
      "Using OpenAI model...\n",
      "Generating collection description for document number:  9\n",
      "Using OpenAI model...\n",
      "Generating collection description for document number:  12\n",
      "Using OpenAI model...\n",
      "Generating collection description for document number:  15\n",
      "Using OpenAI model...\n"
     ]
    },
    {
     "name": "stderr",
     "output_type": "stream",
     "text": [
      "incorrect startxref pointer(1)\n"
     ]
    },
    {
     "name": "stdout",
     "output_type": "stream",
     "text": [
      "Generating collection description for document number:  18\n",
      "Using OpenAI model...\n"
     ]
    },
    {
     "name": "stderr",
     "output_type": "stream",
     "text": [
      "incorrect startxref pointer(1)\n"
     ]
    },
    {
     "name": "stdout",
     "output_type": "stream",
     "text": [
      "Generating collection description for document number:  21\n",
      "Using OpenAI model...\n"
     ]
    },
    {
     "name": "stderr",
     "output_type": "stream",
     "text": [
      "incorrect startxref pointer(1)\n"
     ]
    },
    {
     "name": "stdout",
     "output_type": "stream",
     "text": [
      "Generating collection description for document number:  24\n",
      "Using OpenAI model...\n",
      "Generating collection description for document number:  27\n",
      "Using OpenAI model...\n",
      "Generating collection description for document number:  30\n",
      "Using OpenAI model...\n"
     ]
    }
   ],
   "source": [
    "menu_json_extractor = JSONSchemaExtractorAgent(MAIN_FOLDER,\n",
    "                                               openai_m,\n",
    "                                               n_files=3,\n",
    "                                               openai_model=\"gpt-4o\")\n",
    "menu_json_extractor.set_main_prompt(\"Stai analizzando un insieme di documenti su dei ristoranti fantastici ambientati in una galassia immaginaria. Questo è lo schema json che descrive i dati principali di questi documenti. Ora devi generare una descrizione per questo schema.\\n\\nSchema JSON:\\n\"+menu_schema[0]+\"\\n\\Per ogni campo principale genera una descrizione del campo:\")\n",
    "menu_description = menu_json_extractor.generate_collection_description()"
   ]
  },
  {
   "cell_type": "code",
   "execution_count": 78,
   "metadata": {},
   "outputs": [],
   "source": [
    "\n",
    "with open(f\"output/{SUB_FOLDER}/description.txt\", \"w\") as f:\n",
    "    f.write(menu_description)"
   ]
  },
  {
   "cell_type": "markdown",
   "metadata": {},
   "source": [
    "## Generate json e store on mongodb"
   ]
  },
  {
   "cell_type": "code",
   "execution_count": 42,
   "metadata": {},
   "outputs": [],
   "source": [
    "menu_schema=None"
   ]
  },
  {
   "cell_type": "code",
   "execution_count": 43,
   "metadata": {},
   "outputs": [
    {
     "name": "stdout",
     "output_type": "stream",
     "text": [
      "Schema non trovato\n",
      "Loaded schema\n"
     ]
    },
    {
     "data": {
      "text/plain": [
       "['```json\\n',\n",
       " '{\\n',\n",
       " '  \"restaurants\": [\\n',\n",
       " '    {\\n',\n",
       " '      \"name\": \"\",\\n',\n",
       " '      \"galaxy\": \"\",\\n',\n",
       " '      \"planet\": \"\",\\n',\n",
       " '      \"chef\": {\\n',\n",
       " '        \"name\": \"\",\\n',\n",
       " '        \"alias\": \"\",\\n',\n",
       " '        \"background\": \"\",\\n',\n",
       " '        \"specialSkills\": {\\n',\n",
       " '          \"Psionica\": \"\",\\n',\n",
       " '          \"Temporale\": \"\",\\n',\n",
       " '          \"Gravitazionale\": \"\",\\n',\n",
       " '          \"Antimateria\": \"\",\\n',\n",
       " '          \"Quantistica\": \"\",\\n',\n",
       " '          \"Luce\": \"\",\\n',\n",
       " '          \"LivelloTecnologico\": \"\",\\n',\n",
       " '          \"Magnetica\": \"\",\\n',\n",
       " '          \"otherSkills\": []\\n',\n",
       " '        },\\n',\n",
       " '        \"culinaryAchievements\": \"\",\\n',\n",
       " '        \"education\": \"\",\\n',\n",
       " '        \"experience\": []\\n',\n",
       " '      },\\n',\n",
       " '      \"location\": {\\n',\n",
       " '        \"environment\": \"\",\\n',\n",
       " '        \"dimension\": \"\"\\n',\n",
       " '      },\\n',\n",
       " '      \"cuisine\": {\\n',\n",
       " '        \"type\": \"\",\\n',\n",
       " '        \"inspirations\": []\\n',\n",
       " '      },\\n',\n",
       " '      \"established\": \"\",\\n',\n",
       " '      \"technologyLevel\": \"\",\\n',\n",
       " '      \"menu\": [\\n',\n",
       " '        {\\n',\n",
       " '          \"dish_name\": \"\",\\n',\n",
       " '          \"signatureDish\": false,\\n',\n",
       " '          \"description\": \"\",\\n',\n",
       " '          \"ingredients\": [\\n',\n",
       " '            {\\n',\n",
       " '              \"name\": \"\",\\n',\n",
       " '              \"origin\": \"\"\\n',\n",
       " '            }\\n',\n",
       " '          ],\\n',\n",
       " '          \"techniques\": [\\n',\n",
       " '            {\\n',\n",
       " '              \"name\": \"\",\\n',\n",
       " '              \"effect\": \"\"\\n',\n",
       " '            }\\n',\n",
       " '          ],\\n',\n",
       " '          \"pairings\": [\\n',\n",
       " '            {\\n',\n",
       " '              \"beverage\": \"\",\\n',\n",
       " '              \"notes\": \"\"\\n',\n",
       " '            }\\n',\n",
       " '          ],\\n',\n",
       " '          \"price\": \"\",\\n',\n",
       " '          \"notes\": \"\"\\n',\n",
       " '        }\\n',\n",
       " '      ],\\n',\n",
       " '      \"concept\": \"\",\\n',\n",
       " '      \"additionalFeatures\": [\\n',\n",
       " '        {\\n',\n",
       " '          \"feature\": \"\",\\n',\n",
       " '          \"description\": \"\"\\n',\n",
       " '        }\\n',\n",
       " '      ],\\n',\n",
       " '      \"awards\": [\\n',\n",
       " '        {\\n',\n",
       " '          \"name\": \"\",\\n',\n",
       " '          \"year\": \"\"\\n',\n",
       " '        }\\n',\n",
       " '      ],\\n',\n",
       " '      \"affiliations\": [\\n',\n",
       " '        {\\n',\n",
       " '          \"order\": \"\",\\n',\n",
       " '          \"symbol\": \"\"\\n',\n",
       " '        }\\n',\n",
       " '      ],\\n',\n",
       " '      \"reservationRequirements\": {\\n',\n",
       " '        \"noticePeriod\": \"\",\\n',\n",
       " '        \"allowedPayments\": [],\\n',\n",
       " '        \"specialConditions\": \"\"\\n',\n",
       " '      },\\n',\n",
       " '      \"ambiance\": {\\n',\n",
       " '        \"themes\": [],\\n',\n",
       " '        \"uniqueAspects\": []\\n',\n",
       " '      }\\n',\n",
       " '    }\\n',\n",
       " '  ]\\n',\n",
       " '}\\n',\n",
       " '```']"
      ]
     },
     "execution_count": 43,
     "metadata": {},
     "output_type": "execute_result"
    }
   ],
   "source": [
    "if not menu_schema:\n",
    "    print(\"Schema non trovato\")\n",
    "    with open(f\"output/{SUB_FOLDER}/schema.json\", \"r\") as f:\n",
    "        print(\"Loaded schema\")\n",
    "        menu_schema= f.readlines()\n",
    "menu_schema"
   ]
  },
  {
   "cell_type": "code",
   "execution_count": 44,
   "metadata": {},
   "outputs": [],
   "source": [
    "from populate_mongo import *\n",
    "from populate_json import *\n",
    "import populate_json\n",
    "import populate_mongo"
   ]
  },
  {
   "cell_type": "code",
   "execution_count": 45,
   "metadata": {},
   "outputs": [],
   "source": [
    "#import reload lib\n",
    "import importlib\n",
    "importlib.reload(populate_json)\n",
    "importlib.reload(populate_mongo)\n",
    "from populate_mongo import *\n",
    "from populate_json import *"
   ]
  },
  {
   "cell_type": "code",
   "execution_count": 46,
   "metadata": {},
   "outputs": [],
   "source": [
    "model = ModelInference(\n",
    "    model_id=\"meta-llama/llama-3-3-70b-instruct\", \n",
    "    credentials=credentials,\n",
    "    project_id=PROJECT_ID,\n",
    "    params={\n",
    "            \"max_tokens\": 20000\n",
    "        }\n",
    "    \n",
    "   )"
   ]
  },
  {
   "cell_type": "code",
   "execution_count": null,
   "metadata": {},
   "outputs": [],
   "source": []
  },
  {
   "cell_type": "code",
   "execution_count": 47,
   "metadata": {},
   "outputs": [
    {
     "name": "stdout",
     "output_type": "stream",
     "text": [
      "Connessione a MongoDB riuscita!\n"
     ]
    }
   ],
   "source": [
    "# Inizializza i populator\n",
    "json_populator = JSONPopulator(openai_m,menu_schema,gpt_model=\"gpt-4o\")\n",
    "mongo_populator = MongoPopulator(collection_name=SUB_FOLDER)\n",
    "\n",
    "# Connetti a MongoDB\n",
    "if not mongo_populator.connect():\n",
    "    print(\"Errore nella connessione a MongoDB\")\n",
    "    "
   ]
  },
  {
   "cell_type": "code",
   "execution_count": 48,
   "metadata": {},
   "outputs": [
    {
     "name": "stdout",
     "output_type": "stream",
     "text": [
      "Processando documento: Anima Cosmica.pdf\n",
      "Calling model...\n",
      "Using OpenAI model...\n",
      "Parsing JSON...\n",
      "Documento inserito con successo\n",
      "Stored in MongoDB\n",
      "Processando documento: Armonia Universale.pdf\n",
      "Calling model...\n",
      "Using OpenAI model...\n",
      "Parsing JSON...\n",
      "Errore nel parsing JSON: Expecting value: line 63 column 9 (char 2774)\n",
      "Processando documento: Cosmica Essenza.pdf\n",
      "Calling model...\n",
      "Using OpenAI model...\n",
      "Parsing JSON...\n",
      "Documento inserito con successo\n",
      "Stored in MongoDB\n",
      "Processando documento: Datapizza.pdf\n",
      "Calling model...\n",
      "Using OpenAI model...\n",
      "Parsing JSON...\n",
      "Documento inserito con successo\n",
      "Stored in MongoDB\n",
      "Processando documento: Eco di Pandora.pdf\n",
      "Calling model...\n",
      "Using OpenAI model...\n",
      "Parsing JSON...\n",
      "Documento inserito con successo\n",
      "Stored in MongoDB\n",
      "Processando documento: Eredita Galattica.pdf\n",
      "Calling model...\n",
      "Using OpenAI model...\n",
      "Parsing JSON...\n",
      "Documento inserito con successo\n",
      "Stored in MongoDB\n",
      "Processando documento: Essenza dell Infinito.pdf\n",
      "Calling model...\n",
      "Using OpenAI model...\n",
      "Parsing JSON...\n",
      "Documento inserito con successo\n",
      "Stored in MongoDB\n",
      "Processando documento: Il Firmamento.pdf\n",
      "Calling model...\n",
      "Using OpenAI model...\n",
      "Parsing JSON...\n",
      "Documento inserito con successo\n",
      "Stored in MongoDB\n",
      "Processando documento: L Architetto dell Universo.pdf\n",
      "Calling model...\n",
      "Using OpenAI model...\n",
      "Parsing JSON...\n",
      "Documento inserito con successo\n",
      "Stored in MongoDB\n",
      "Processando documento: L Eco dei Sapori.pdf\n",
      "Calling model...\n",
      "Using OpenAI model...\n",
      "Parsing JSON...\n",
      "Documento inserito con successo\n",
      "Stored in MongoDB\n",
      "Processando documento: L Equilibrio Quantico.pdf\n",
      "Calling model...\n",
      "Using OpenAI model...\n",
      "Parsing JSON...\n",
      "Documento inserito con successo\n",
      "Stored in MongoDB\n",
      "Processando documento: L Essenza Cosmica.pdf\n",
      "Calling model...\n",
      "Using OpenAI model...\n",
      "Parsing JSON...\n",
      "Documento inserito con successo\n",
      "Stored in MongoDB\n",
      "Processando documento: L Essenza del Multiverso su Pandora.pdf\n",
      "Calling model...\n",
      "Using OpenAI model...\n",
      "Parsing JSON...\n",
      "Documento inserito con successo\n",
      "Stored in MongoDB\n",
      "Processando documento: L Essenza delle Dune.pdf\n",
      "Calling model...\n",
      "Using OpenAI model...\n",
      "Parsing JSON...\n",
      "Documento inserito con successo\n",
      "Stored in MongoDB\n",
      "Processando documento: L Essenza di Asgard.pdf\n",
      "Calling model...\n",
      "Using OpenAI model...\n"
     ]
    },
    {
     "name": "stderr",
     "output_type": "stream",
     "text": [
      "incorrect startxref pointer(1)\n"
     ]
    },
    {
     "name": "stdout",
     "output_type": "stream",
     "text": [
      "Parsing JSON...\n",
      "Documento inserito con successo\n",
      "Stored in MongoDB\n",
      "Processando documento: L Etere del Gusto.pdf\n",
      "Calling model...\n",
      "Using OpenAI model...\n",
      "Parsing JSON...\n",
      "Documento inserito con successo\n",
      "Stored in MongoDB\n",
      "Processando documento: L infinito in un Boccone.pdf\n",
      "Calling model...\n",
      "Using OpenAI model...\n",
      "Parsing JSON...\n",
      "Documento inserito con successo\n",
      "Stored in MongoDB\n",
      "Processando documento: L Oasi delle Dune Stellari.pdf\n",
      "Calling model...\n",
      "Using OpenAI model...\n",
      "Parsing JSON...\n",
      "Documento inserito con successo\n",
      "Stored in MongoDB\n",
      "Processando documento: L Universo in Cucina.pdf\n",
      "Calling model...\n",
      "Using OpenAI model...\n"
     ]
    },
    {
     "name": "stderr",
     "output_type": "stream",
     "text": [
      "incorrect startxref pointer(1)\n"
     ]
    },
    {
     "name": "stdout",
     "output_type": "stream",
     "text": [
      "Parsing JSON...\n",
      "Documento inserito con successo\n",
      "Stored in MongoDB\n",
      "Processando documento: Le Dimensioni del Gusto.pdf\n",
      "Calling model...\n",
      "Using OpenAI model...\n",
      "Parsing JSON...\n",
      "Documento inserito con successo\n",
      "Stored in MongoDB\n",
      "Processando documento: Le Stelle che Ballano.pdf\n",
      "Calling model...\n",
      "Using OpenAI model...\n"
     ]
    },
    {
     "name": "stderr",
     "output_type": "stream",
     "text": [
      "incorrect startxref pointer(1)\n"
     ]
    },
    {
     "name": "stdout",
     "output_type": "stream",
     "text": [
      "Parsing JSON...\n",
      "Documento inserito con successo\n",
      "Stored in MongoDB\n",
      "Processando documento: Le Stelle Danzanti.pdf\n",
      "Calling model...\n",
      "Using OpenAI model...\n",
      "Parsing JSON...\n",
      "Documento inserito con successo\n",
      "Stored in MongoDB\n",
      "Processando documento: Ristorante delle Dune Stellari.pdf\n",
      "Calling model...\n",
      "Using OpenAI model...\n",
      "Parsing JSON...\n",
      "Documento inserito con successo\n",
      "Stored in MongoDB\n",
      "Processando documento: Ristorante Quantico.pdf\n",
      "Calling model...\n",
      "Using OpenAI model...\n",
      "Parsing JSON...\n",
      "Documento inserito con successo\n",
      "Stored in MongoDB\n",
      "Processando documento: Sala del Valhalla.pdf\n",
      "Calling model...\n",
      "Using OpenAI model...\n",
      "Parsing JSON...\n",
      "Documento inserito con successo\n",
      "Stored in MongoDB\n",
      "Processando documento: Sapore del Dune.pdf\n",
      "Calling model...\n",
      "Using OpenAI model...\n",
      "Parsing JSON...\n",
      "Documento inserito con successo\n",
      "Stored in MongoDB\n",
      "Processando documento: Stelle Astrofisiche.pdf\n",
      "Calling model...\n",
      "Using OpenAI model...\n",
      "Parsing JSON...\n",
      "Documento inserito con successo\n",
      "Stored in MongoDB\n",
      "Processando documento: Stelle dell Infinito Celestiale.pdf\n",
      "Calling model...\n",
      "Using OpenAI model...\n",
      "Parsing JSON...\n",
      "Documento inserito con successo\n",
      "Stored in MongoDB\n",
      "Processando documento: Tutti a TARSvola.pdf\n",
      "Calling model...\n",
      "Using OpenAI model...\n",
      "Parsing JSON...\n",
      "Errore nel parsing JSON: Expecting ',' delimiter: line 141 column 9 (char 4532)\n",
      "Processando documento: Universo Gastronomico di Namecc.pdf\n",
      "Calling model...\n",
      "Using OpenAI model...\n",
      "Parsing JSON...\n",
      "Documento inserito con successo\n",
      "Stored in MongoDB\n"
     ]
    }
   ],
   "source": [
    "for index, doc in enumerate(os.listdir(MAIN_FOLDER)):\n",
    "    try:\n",
    "        print(f\"Processando documento: {doc}\")\n",
    "        \n",
    "        doc_path = f\"{MAIN_FOLDER}{doc}\"\n",
    "        text = json_populator.pdf_to_text(doc_path, index)\n",
    "        if not text:\n",
    "            continue\n",
    "        print(\"Calling model...\")\n",
    "        result = json_populator.process_document(text)\n",
    "        if not result:\n",
    "            continue\n",
    "\n",
    "        #write json file for each document\n",
    "        with open(f\"output/{SUB_FOLDER}/{doc}.json\", \"w\") as f:\n",
    "            f.write(result)\n",
    "\n",
    "        print(\"Parsing JSON...\")\n",
    "        json_data = json_populator.clean_and_parse_json(result)\n",
    "    \n",
    "        if not json_data:\n",
    "            continue\n",
    "        mongo_populator.insert_document(json_data)\n",
    "        print(\"Stored in MongoDB\")\n",
    "    except Exception as e:\n",
    "        print(f\"Errore nel processamento del documento {doc}: {e}\")\n",
    "        continue\n",
    "\n"
   ]
  },
  {
   "cell_type": "code",
   "execution_count": null,
   "metadata": {},
   "outputs": [],
   "source": []
  },
  {
   "cell_type": "code",
   "execution_count": null,
   "metadata": {},
   "outputs": [],
   "source": []
  }
 ],
 "metadata": {
  "kernelspec": {
   "display_name": "Python 3",
   "language": "python",
   "name": "python3"
  },
  "language_info": {
   "codemirror_mode": {
    "name": "ipython",
    "version": 3
   },
   "file_extension": ".py",
   "mimetype": "text/x-python",
   "name": "python",
   "nbconvert_exporter": "python",
   "pygments_lexer": "ipython3",
   "version": "3.12.6"
  }
 },
 "nbformat": 4,
 "nbformat_minor": 2
}
