{
 "cells": [
  {
   "cell_type": "code",
   "execution_count": null,
   "metadata": {
    "vscode": {
     "languageId": "plaintext"
    }
   },
   "outputs": [],
   "source": [
    "# leggi tutte le domande\n",
    "# estrai quale informazioni sono interessanti per le domande del dominio\n",
    "# fai capire che json tirare fuori \n",
    "# fai una lista di cosa ti interessa cercare\n",
    "# menziona le relazioni che ci sono tra i vari attributi"
   ]
  }
 ],
 "metadata": {
  "language_info": {
   "name": "python"
  }
 },
 "nbformat": 4,
 "nbformat_minor": 2
}
