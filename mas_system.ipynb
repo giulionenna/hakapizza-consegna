{
 "cells": [
  {
   "cell_type": "code",
   "execution_count": 1,
   "metadata": {},
   "outputs": [],
   "source": [
    "%%capture --no-stderr\n",
    "%pip install -U langgraph langchain_community langchain_anthropic langchain_experimental"
   ]
  },
  {
   "cell_type": "code",
   "execution_count": 1,
   "metadata": {},
   "outputs": [],
   "source": [
    "from utils import *"
   ]
  },
  {
   "cell_type": "code",
   "execution_count": 15,
   "metadata": {},
   "outputs": [],
   "source": [
    "from langchain_ibm import ChatWatsonx\n",
    "from ibm_watsonx_ai.foundation_models import ModelInference\n",
    "from langgraph.prebuilt import create_react_agent\n",
    "from langchain_core.tools import tool\n",
    "from langchain_core.messages import HumanMessage\n"
   ]
  },
  {
   "cell_type": "code",
   "execution_count": 3,
   "metadata": {},
   "outputs": [],
   "source": [
    "from CreateSpecializedAgent import CreateSpecializedAgent\n",
    "from langchain_openai import ChatOpenAI\n",
    "import os\n",
    "\n",
    "os.environ[\"OPENAI_API_KEY\"] = OPENAI_API_KEY"
   ]
  },
  {
   "cell_type": "code",
   "execution_count": 4,
   "metadata": {},
   "outputs": [],
   "source": [
    "llm_openai = ChatOpenAI(\n",
    "    model=\"gpt-4o\"\n",
    ")"
   ]
  },
  {
   "cell_type": "code",
   "execution_count": 23,
   "metadata": {},
   "outputs": [],
   "source": [
    "with open('prepocessed_results/restaurants/description.txt', 'r') as file:\n",
    "    description = file.read()\n",
    "\n",
    "with open('prepocessed_results/restaurants/json_schema.txt', 'r') as file:\n",
    "    json_schema = file.read()\n",
    "\n",
    "restaurants_agent = CreateSpecializedAgent(llm=llm_openai, json_schema=json_schema, collection_description=description, collection_name=\"restaurants\", db_name=\"hackapizza\").agent\n",
    "\n",
    "prompt_summary = f\"Generate a summary of this text: {description}\" \n",
    "restaurants_summary = llm_openai.invoke([HumanMessage(prompt_summary)]).content"
   ]
  },
  {
   "cell_type": "code",
   "execution_count": 24,
   "metadata": {},
   "outputs": [],
   "source": [
    "summaries = {\n",
    "    \"restaurants_agent\": restaurants_summary\n",
    "}\n"
   ]
  },
  {
   "cell_type": "code",
   "execution_count": 6,
   "metadata": {},
   "outputs": [],
   "source": [
    "from typing import Literal\n",
    "from typing_extensions import TypedDict\n",
    "\n",
    "from langchain_anthropic import ChatAnthropic\n",
    "from langgraph.graph import MessagesState, END\n",
    "from langgraph.types import Command\n",
    "\n",
    "\n",
    "members = [\"restaurants\", \"kitchen_codes\", \"cookbook\"]\n",
    "# Our team supervisor is an LLM node. It just picks the next agent to process\n",
    "# and decides when the work is completed\n",
    "options = members + [\"FINISH\"]\n",
    "\n",
    "system_prompt = (\n",
    "    f\"\"\"\n",
    "        descrione alto livello\n",
    "        descrizione per ogni worker\n",
    "        processo di interazione\n",
    "        formato dell'output desiderato\n",
    "        esempi di ragionamento\n",
    "\n",
    "        Sei un assistente che deve rispondere a una richiesta dell'utente. \n",
    "        Per farlo devi coordinare il lavoro dei seguenti agenti: {members}.\n",
    "        Ogni agente risponde a domande in linguaggio naturale ed è specializzato\n",
    "        in un particolare argomento. \n",
    "        Qua sotto trovi una descrizione di ciascun agente.\n",
    "        {summaries}\n",
    "\n",
    "        Per rispondere alla richiesta dell'utente, devi seguire i seguenti step:\n",
    "        - sulla base delle descrizioni di ogni agente, suddividi la domanda e contatta appropriatamente gli agenti\n",
    "        - salvati i risultati di uno o degli agenti \n",
    "        - unisci tutti i risultati ottenuti in un'unica risposta\n",
    "        - se necessario utilizza l'output di un agente per formulare la domanda per un altro agente \n",
    "\n",
    "\n",
    "        When finished, respond with FINISH.\n",
    "    \"\"\"\n",
    "\n",
    "    \"You are a supervisor tasked with managing a conversation between the\"\n",
    "    f\" following workers: {members}. \"\n",
    "    \" Given the following user request,\"\n",
    "    \" respond with the worker to act next. Each worker will perform a\"\n",
    "    \" task and respond with their results and status. \"\n",
    "    \" When finished, respond with FINISH.\"\n",
    ")\n",
    "\n",
    "\n",
    "class Router(TypedDict):\n",
    "    \"\"\"Worker to route to next. If no workers needed, route to FINISH.\"\"\"\n",
    "\n",
    "    next: Literal[*options]\n",
    "\n",
    "\n",
    "llm = ChatWatsonx(\n",
    "    model_id=\"meta-llama/llama-3-405b-instruct\",\n",
    "    url = ENDPOINT_URL,\n",
    "    apikey = API_KEY,\n",
    "    project_id = PROJECT_ID,\n",
    "        params = {\n",
    "            \"decoding_method\": \"greedy\",\n",
    "            \"temperature\": 0, \n",
    "            \"min_new_tokens\": 5, \n",
    "            \"max_new_tokens\": 2000\n",
    "        }\n",
    ")\n",
    "\n",
    "class State(MessagesState):\n",
    "    next: str\n",
    "\n",
    "\n",
    "def supervisor_node(state: State) -> Command[Literal[*members, \"__end__\"]]:\n",
    "    messages = [\n",
    "        {\"role\": \"system\", \"content\": system_prompt},\n",
    "    ] + state[\"messages\"]\n",
    "    response = llm.with_structured_output(Router).invoke(messages)\n",
    "    goto = response[\"next\"]\n",
    "    if goto == \"FINISH\":\n",
    "        goto = END\n",
    "\n",
    "    return Command(goto=goto, update={\"next\": goto})"
   ]
  },
  {
   "cell_type": "code",
   "execution_count": 7,
   "metadata": {},
   "outputs": [],
   "source": [
    "from langgraph.graph import StateGraph, START, END\n",
    "from langgraph.prebuilt import create_react_agent\n",
    "\n",
    "\n",
    "def restaurant_node(state: State) -> Command[Literal[\"supervisor\"]]:\n",
    "    result = restaurants_agent.invoke(state)\n",
    "    return Command(\n",
    "        update={\n",
    "            \"messages\": [\n",
    "                HumanMessage(content=result[\"messages\"][-1].content, name=\"restaurants\")\n",
    "            ]\n",
    "        },\n",
    "        goto=\"supervisor\",\n",
    "    )\n"
   ]
  },
  {
   "cell_type": "code",
   "execution_count": 8,
   "metadata": {},
   "outputs": [],
   "source": [
    "from typing import Annotated\n",
    "\n",
    "# from langchain_community.tools.tavily_search import TavilySearchResults\n",
    "from langchain_core.tools import tool\n",
    "\n",
    "@tool\n",
    "def translate_query(\n",
    "    code: Annotated[str, \"The query to translate.\"],\n",
    "):\n",
    "    \"\"\"Use this to translate a query from natural language into mongo db query. \n",
    "    \"\"\"\n",
    "    return  \"\"\" {'queries': ['{ \"$unwind\": \"$menu\" }', '{ \"$unwind\": \"$menu.piatti\" }', '{ \"$match\": { \"menu.piatti.ingredienti.nomeIngrediente\": { \"$ne\": \"basilico\" } } }']}\"\"\"\n",
    "\n",
    "@tool\n",
    "def run_query(\n",
    "    code: Annotated[str, \"The query to execute.\"],\n",
    "):\n",
    "    \"\"\"Use this to translate a query from natural language into mongo db query. \n",
    "    \"\"\"\n",
    "    return  \"\"\"{'_id': ObjectId('678c03f108c1090ce820c6f8'), 'nomeRistorante': 'Trattoria Bella', 'indirizzo': 'Via Roma 123, Torino', 'menu': {'dataMenu': '2025-01-01', 'piatti': {'nomePiatto': 'Risotto alla Milanese', 'ingredienti': [{'nomeIngrediente': 'riso', 'quantita': '150g'}, {'nomeIngrediente': 'zafferano', 'quantita': '1 bustina'}]}}}\"\"\""
   ]
  },
  {
   "cell_type": "code",
   "execution_count": 9,
   "metadata": {},
   "outputs": [],
   "source": [
    "kitchen_codes_agent = create_react_agent(\n",
    "    llm, tools=[translate_query, run_query], state_modifier=\"You have to return a string that is the query translated.\"\n",
    ")\n",
    "\n",
    "\n",
    "def kitchen_codes_node(state: State) -> Command[Literal[\"supervisor\"]]:\n",
    "    result = kitchen_codes_agent.invoke(state)\n",
    "    return Command(\n",
    "        update={\n",
    "            \"messages\": [\n",
    "                HumanMessage(content=result[\"messages\"][-1].content, name=\"kitchen_codes\")\n",
    "            ]\n",
    "        },\n",
    "        goto=\"supervisor\",\n",
    "    )"
   ]
  },
  {
   "cell_type": "code",
   "execution_count": 10,
   "metadata": {},
   "outputs": [],
   "source": [
    "cookbook_agent = create_react_agent(\n",
    "    llm, tools=[translate_query, run_query], state_modifier=\"You have to return a string that is the query translated.\"\n",
    ")\n",
    "\n",
    "def cookbook_node(state: State) -> Command[Literal[\"supervisor\"]]:\n",
    "    result = cookbook_agent.invoke(state)\n",
    "    return Command(\n",
    "        update={\n",
    "            \"messages\": [\n",
    "                HumanMessage(content=result[\"messages\"][-1].content, name=\"cookbook\")\n",
    "            ]\n",
    "        },\n",
    "        goto=\"supervisor\",\n",
    "    )\n"
   ]
  },
  {
   "cell_type": "code",
   "execution_count": 11,
   "metadata": {},
   "outputs": [],
   "source": [
    "builder = StateGraph(State)\n",
    "builder.add_edge(START, \"supervisor\")\n",
    "builder.add_node(\"supervisor\", supervisor_node)\n",
    "builder.add_node(\"restaurants\", restaurant_node)\n",
    "builder.add_node(\"kitchen_codes\", kitchen_codes_node)\n",
    "builder.add_node(\"cookbook\", cookbook_node)\n",
    "graph = builder.compile()"
   ]
  },
  {
   "cell_type": "code",
   "execution_count": 12,
   "metadata": {},
   "outputs": [
    {
     "data": {
      "image/png": "[encoded data removed]",
      "text/plain": [
       "<IPython.core.display.Image object>"
      ]
     },
     "metadata": {},
     "output_type": "display_data"
    }
   ],
   "source": [
    "from IPython.display import display, Image\n",
    "\n",
    "display(Image(graph.get_graph().draw_mermaid_png()))"
   ]
  },
  {
   "cell_type": "code",
   "execution_count": 13,
   "metadata": {},
   "outputs": [
    {
     "name": "stdout",
     "output_type": "stream",
     "text": [
      "((), {'supervisor': {'next': 'cookbook'}})\n",
      "----\n",
      "(('cookbook:9d71c7b2-22c8-c0b4-f68a-595efd75ea5f',), {'agent': {'messages': [AIMessage(content='', additional_kwargs={'tool_calls': [{'id': 'chatcmpl-tool-0f319b18f29b4e78a4c3d175f75f1124', 'type': 'function', 'function': {'name': 'translate_query', 'arguments': '{\"code\": \"Which plate have riso inside?\"}'}}]}, response_metadata={'token_usage': {'completion_tokens': 24, 'prompt_tokens': 308, 'total_tokens': 332}, 'model_name': 'meta-llama/llama-3-405b-instruct', 'system_fingerprint': '', 'finish_reason': 'tool_calls'}, id='chatcmpl-6fe299be6f1a55707865b5d5d4acb9d3', tool_calls=[{'name': 'translate_query', 'args': {'code': 'Which plate have riso inside?'}, 'id': 'chatcmpl-tool-0f319b18f29b4e78a4c3d175f75f1124', 'type': 'tool_call'}], usage_metadata={'input_tokens': 308, 'output_tokens': 24, 'total_tokens': 332})]}})\n",
      "----\n",
      "(('cookbook:9d71c7b2-22c8-c0b4-f68a-595efd75ea5f',), {'tools': {'messages': [ToolMessage(content=' {\\'queries\\': [\\'{ \"$unwind\": \"$menu\" }\\', \\'{ \"$unwind\": \"$menu.piatti\" }\\', \\'{ \"$match\": { \"menu.piatti.ingredienti.nomeIngrediente\": { \"$ne\": \"basilico\" } } }\\']}', name='translate_query', id='e55a7377-f235-41b1-ae02-65301fd30a71', tool_call_id='chatcmpl-tool-0f319b18f29b4e78a4c3d175f75f1124')]}})\n",
      "----\n",
      "(('cookbook:9d71c7b2-22c8-c0b4-f68a-595efd75ea5f',), {'agent': {'messages': [AIMessage(content='', additional_kwargs={'tool_calls': [{'id': 'chatcmpl-tool-2d7d85ef65e24bd8bfb5b35b1c0d34c2', 'type': 'function', 'function': {'name': 'translate_query', 'arguments': '{\"code\": \"{\\'queries\\': [\\\\\"{ \\\\\\\\\"}'}}]}, response_metadata={'token_usage': {'completion_tokens': 25, 'prompt_tokens': 402, 'total_tokens': 427}, 'model_name': 'meta-llama/llama-3-405b-instruct', 'system_fingerprint': '', 'finish_reason': 'tool_calls'}, id='chatcmpl-0e23e7667ebcc37371bd53b664d3aca5', tool_calls=[{'name': 'translate_query', 'args': {'code': '{\\'queries\\': [\"{ \\\\'}, 'id': 'chatcmpl-tool-2d7d85ef65e24bd8bfb5b35b1c0d34c2', 'type': 'tool_call'}], usage_metadata={'input_tokens': 402, 'output_tokens': 25, 'total_tokens': 427})]}})\n",
      "----\n",
      "(('cookbook:9d71c7b2-22c8-c0b4-f68a-595efd75ea5f',), {'tools': {'messages': [ToolMessage(content=' {\\'queries\\': [\\'{ \"$unwind\": \"$menu\" }\\', \\'{ \"$unwind\": \"$menu.piatti\" }\\', \\'{ \"$match\": { \"menu.piatti.ingredienti.nomeIngrediente\": { \"$ne\": \"basilico\" } } }\\']}', name='translate_query', id='78500ff0-108d-4675-9d0d-681c73c88043', tool_call_id='chatcmpl-tool-2d7d85ef65e24bd8bfb5b35b1c0d34c2')]}})\n",
      "----\n",
      "(('cookbook:9d71c7b2-22c8-c0b4-f68a-595efd75ea5f',), {'agent': {'messages': [AIMessage(content='', additional_kwargs={'tool_calls': [{'id': 'chatcmpl-tool-f750b5534b784a2b9fab902182b7f7c9', 'type': 'function', 'function': {'name': 'translate_query', 'arguments': '{\"code\": \"{\"}'}}]}, response_metadata={'token_usage': {'completion_tokens': 17, 'prompt_tokens': 497, 'total_tokens': 514}, 'model_name': 'meta-llama/llama-3-405b-instruct', 'system_fingerprint': '', 'finish_reason': 'tool_calls'}, id='chatcmpl-e5d9f9f1178c6fee65a91dca08fe8bde', tool_calls=[{'name': 'translate_query', 'args': {'code': '{'}, 'id': 'chatcmpl-tool-f750b5534b784a2b9fab902182b7f7c9', 'type': 'tool_call'}], usage_metadata={'input_tokens': 497, 'output_tokens': 17, 'total_tokens': 514})]}})\n",
      "----\n",
      "(('cookbook:9d71c7b2-22c8-c0b4-f68a-595efd75ea5f',), {'tools': {'messages': [ToolMessage(content=' {\\'queries\\': [\\'{ \"$unwind\": \"$menu\" }\\', \\'{ \"$unwind\": \"$menu.piatti\" }\\', \\'{ \"$match\": { \"menu.piatti.ingredienti.nomeIngrediente\": { \"$ne\": \"basilico\" } } }\\']}', name='translate_query', id='773a80cf-07f7-4d1c-8256-72e3651dd4cd', tool_call_id='chatcmpl-tool-f750b5534b784a2b9fab902182b7f7c9')]}})\n",
      "----\n",
      "(('cookbook:9d71c7b2-22c8-c0b4-f68a-595efd75ea5f',), {'agent': {'messages': [AIMessage(content='', additional_kwargs={'tool_calls': [{'id': 'chatcmpl-tool-fb1ecc117010444996614c2b61210ea4', 'type': 'function', 'function': {'name': 'translate_query', 'arguments': '{\"code\": \"{\"}'}}]}, response_metadata={'token_usage': {'completion_tokens': 16, 'prompt_tokens': 584, 'total_tokens': 600}, 'model_name': 'meta-llama/llama-3-405b-instruct', 'system_fingerprint': '', 'finish_reason': 'tool_calls'}, id='chatcmpl-aad903ad221a4d771a64cca2a74c80e9', tool_calls=[{'name': 'translate_query', 'args': {'code': '{'}, 'id': 'chatcmpl-tool-fb1ecc117010444996614c2b61210ea4', 'type': 'tool_call'}], usage_metadata={'input_tokens': 584, 'output_tokens': 16, 'total_tokens': 600})]}})\n",
      "----\n",
      "(('cookbook:9d71c7b2-22c8-c0b4-f68a-595efd75ea5f',), {'tools': {'messages': [ToolMessage(content=' {\\'queries\\': [\\'{ \"$unwind\": \"$menu\" }\\', \\'{ \"$unwind\": \"$menu.piatti\" }\\', \\'{ \"$match\": { \"menu.piatti.ingredienti.nomeIngrediente\": { \"$ne\": \"basilico\" } } }\\']}', name='translate_query', id='b98630e8-9546-4457-8f8d-518ec6fffaae', tool_call_id='chatcmpl-tool-fb1ecc117010444996614c2b61210ea4')]}})\n",
      "----\n",
      "(('cookbook:9d71c7b2-22c8-c0b4-f68a-595efd75ea5f',), {'agent': {'messages': [AIMessage(content='', additional_kwargs={'tool_calls': [{'id': 'chatcmpl-tool-9b02056a1da344f7b1a76e0c79885a66', 'type': 'function', 'function': {'name': 'translate_query', 'arguments': '{\"code\": \"{\"}'}}]}, response_metadata={'token_usage': {'completion_tokens': 16, 'prompt_tokens': 671, 'total_tokens': 687}, 'model_name': 'meta-llama/llama-3-405b-instruct', 'system_fingerprint': '', 'finish_reason': 'tool_calls'}, id='chatcmpl-c8b6355eb4c1a0afa45e450833b65211', tool_calls=[{'name': 'translate_query', 'args': {'code': '{'}, 'id': 'chatcmpl-tool-9b02056a1da344f7b1a76e0c79885a66', 'type': 'tool_call'}], usage_metadata={'input_tokens': 671, 'output_tokens': 16, 'total_tokens': 687})]}})\n",
      "----\n",
      "(('cookbook:9d71c7b2-22c8-c0b4-f68a-595efd75ea5f',), {'tools': {'messages': [ToolMessage(content=' {\\'queries\\': [\\'{ \"$unwind\": \"$menu\" }\\', \\'{ \"$unwind\": \"$menu.piatti\" }\\', \\'{ \"$match\": { \"menu.piatti.ingredienti.nomeIngrediente\": { \"$ne\": \"basilico\" } } }\\']}', name='translate_query', id='d22f86a1-f3a6-495b-b9a1-54ca137173f9', tool_call_id='chatcmpl-tool-9b02056a1da344f7b1a76e0c79885a66')]}})\n",
      "----\n",
      "(('cookbook:9d71c7b2-22c8-c0b4-f68a-595efd75ea5f',), {'agent': {'messages': [AIMessage(content='', additional_kwargs={'tool_calls': [{'id': 'chatcmpl-tool-042960cea3f7421f873900c51e979f18', 'type': 'function', 'function': {'name': 'translate_query', 'arguments': '{\"code\": \"riso\"}'}}]}, response_metadata={'token_usage': {'completion_tokens': 18, 'prompt_tokens': 758, 'total_tokens': 776}, 'model_name': 'meta-llama/llama-3-405b-instruct', 'system_fingerprint': '', 'finish_reason': 'tool_calls'}, id='chatcmpl-eb917f8bfc3f720c46083f8ebd92b6b6', tool_calls=[{'name': 'translate_query', 'args': {'code': 'riso'}, 'id': 'chatcmpl-tool-042960cea3f7421f873900c51e979f18', 'type': 'tool_call'}], usage_metadata={'input_tokens': 758, 'output_tokens': 18, 'total_tokens': 776})]}})\n",
      "----\n",
      "(('cookbook:9d71c7b2-22c8-c0b4-f68a-595efd75ea5f',), {'tools': {'messages': [ToolMessage(content=' {\\'queries\\': [\\'{ \"$unwind\": \"$menu\" }\\', \\'{ \"$unwind\": \"$menu.piatti\" }\\', \\'{ \"$match\": { \"menu.piatti.ingredienti.nomeIngrediente\": { \"$ne\": \"basilico\" } } }\\']}', name='translate_query', id='11e27f6c-28a4-4faa-9ba7-e8834a0cc2ed', tool_call_id='chatcmpl-tool-042960cea3f7421f873900c51e979f18')]}})\n",
      "----\n",
      "(('cookbook:9d71c7b2-22c8-c0b4-f68a-595efd75ea5f',), {'agent': {'messages': [AIMessage(content='', additional_kwargs={'tool_calls': [{'id': 'chatcmpl-tool-b3a6661913fc4aeeaf67c13d1824700b', 'type': 'function', 'function': {'name': 'translate_query', 'arguments': '{\"code\": \"{\"}'}}]}, response_metadata={'token_usage': {'completion_tokens': 16, 'prompt_tokens': 847, 'total_tokens': 863}, 'model_name': 'meta-llama/llama-3-405b-instruct', 'system_fingerprint': '', 'finish_reason': 'tool_calls'}, id='chatcmpl-c228e0cd37d5059ec1ad03518995f3b0', tool_calls=[{'name': 'translate_query', 'args': {'code': '{'}, 'id': 'chatcmpl-tool-b3a6661913fc4aeeaf67c13d1824700b', 'type': 'tool_call'}], usage_metadata={'input_tokens': 847, 'output_tokens': 16, 'total_tokens': 863})]}})\n",
      "----\n",
      "(('cookbook:9d71c7b2-22c8-c0b4-f68a-595efd75ea5f',), {'tools': {'messages': [ToolMessage(content=' {\\'queries\\': [\\'{ \"$unwind\": \"$menu\" }\\', \\'{ \"$unwind\": \"$menu.piatti\" }\\', \\'{ \"$match\": { \"menu.piatti.ingredienti.nomeIngrediente\": { \"$ne\": \"basilico\" } } }\\']}', name='translate_query', id='d4b353ab-3cdc-48cd-8a4a-619745dff154', tool_call_id='chatcmpl-tool-b3a6661913fc4aeeaf67c13d1824700b')]}})\n",
      "----\n",
      "(('cookbook:9d71c7b2-22c8-c0b4-f68a-595efd75ea5f',), {'agent': {'messages': [AIMessage(content='', additional_kwargs={'tool_calls': [{'id': 'chatcmpl-tool-8aeab490160a40888f1a16431396f523', 'type': 'function', 'function': {'name': 'translate_query', 'arguments': '{\"code\": \"{\"}'}}]}, response_metadata={'token_usage': {'completion_tokens': 16, 'prompt_tokens': 934, 'total_tokens': 950}, 'model_name': 'meta-llama/llama-3-405b-instruct', 'system_fingerprint': '', 'finish_reason': 'tool_calls'}, id='chatcmpl-8e1c4251d8e7c7cb03e8d31bc310a240', tool_calls=[{'name': 'translate_query', 'args': {'code': '{'}, 'id': 'chatcmpl-tool-8aeab490160a40888f1a16431396f523', 'type': 'tool_call'}], usage_metadata={'input_tokens': 934, 'output_tokens': 16, 'total_tokens': 950})]}})\n",
      "----\n",
      "(('cookbook:9d71c7b2-22c8-c0b4-f68a-595efd75ea5f',), {'tools': {'messages': [ToolMessage(content=' {\\'queries\\': [\\'{ \"$unwind\": \"$menu\" }\\', \\'{ \"$unwind\": \"$menu.piatti\" }\\', \\'{ \"$match\": { \"menu.piatti.ingredienti.nomeIngrediente\": { \"$ne\": \"basilico\" } } }\\']}', name='translate_query', id='101f228f-6f0b-4d46-a5aa-6eaf8084f6e6', tool_call_id='chatcmpl-tool-8aeab490160a40888f1a16431396f523')]}})\n",
      "----\n",
      "(('cookbook:9d71c7b2-22c8-c0b4-f68a-595efd75ea5f',), {'agent': {'messages': [AIMessage(content='', additional_kwargs={'tool_calls': [{'id': 'chatcmpl-tool-f1fc1c8abab54af6b0e80d93251071f6', 'type': 'function', 'function': {'name': 'translate_query', 'arguments': '{\"code\": \"{\"}'}}]}, response_metadata={'token_usage': {'completion_tokens': 16, 'prompt_tokens': 1021, 'total_tokens': 1037}, 'model_name': 'meta-llama/llama-3-405b-instruct', 'system_fingerprint': '', 'finish_reason': 'tool_calls'}, id='chatcmpl-8f78eb810b9b7fe0611e182518c95a2c', tool_calls=[{'name': 'translate_query', 'args': {'code': '{'}, 'id': 'chatcmpl-tool-f1fc1c8abab54af6b0e80d93251071f6', 'type': 'tool_call'}], usage_metadata={'input_tokens': 1021, 'output_tokens': 16, 'total_tokens': 1037})]}})\n",
      "----\n",
      "(('cookbook:9d71c7b2-22c8-c0b4-f68a-595efd75ea5f',), {'tools': {'messages': [ToolMessage(content=' {\\'queries\\': [\\'{ \"$unwind\": \"$menu\" }\\', \\'{ \"$unwind\": \"$menu.piatti\" }\\', \\'{ \"$match\": { \"menu.piatti.ingredienti.nomeIngrediente\": { \"$ne\": \"basilico\" } } }\\']}', name='translate_query', id='242b3e0f-680c-4098-bd54-2d1c5ead3ed3', tool_call_id='chatcmpl-tool-f1fc1c8abab54af6b0e80d93251071f6')]}})\n",
      "----\n",
      "(('cookbook:9d71c7b2-22c8-c0b4-f68a-595efd75ea5f',), {'agent': {'messages': [AIMessage(content='', additional_kwargs={'tool_calls': [{'id': 'chatcmpl-tool-bfd9381ab1e547f3bbaef07d8bedb51d', 'type': 'function', 'function': {'name': 'translate_query', 'arguments': '{\"code\": \"{\"}'}}]}, response_metadata={'token_usage': {'completion_tokens': 16, 'prompt_tokens': 1108, 'total_tokens': 1124}, 'model_name': 'meta-llama/llama-3-405b-instruct', 'system_fingerprint': '', 'finish_reason': 'tool_calls'}, id='chatcmpl-f0df88b1fe519260f4bcccaa6190b9e4', tool_calls=[{'name': 'translate_query', 'args': {'code': '{'}, 'id': 'chatcmpl-tool-bfd9381ab1e547f3bbaef07d8bedb51d', 'type': 'tool_call'}], usage_metadata={'input_tokens': 1108, 'output_tokens': 16, 'total_tokens': 1124})]}})\n",
      "----\n",
      "(('cookbook:9d71c7b2-22c8-c0b4-f68a-595efd75ea5f',), {'tools': {'messages': [ToolMessage(content=' {\\'queries\\': [\\'{ \"$unwind\": \"$menu\" }\\', \\'{ \"$unwind\": \"$menu.piatti\" }\\', \\'{ \"$match\": { \"menu.piatti.ingredienti.nomeIngrediente\": { \"$ne\": \"basilico\" } } }\\']}', name='translate_query', id='3a980018-f8c9-4b78-9b49-1a5b105cd411', tool_call_id='chatcmpl-tool-bfd9381ab1e547f3bbaef07d8bedb51d')]}})\n",
      "----\n",
      "(('cookbook:9d71c7b2-22c8-c0b4-f68a-595efd75ea5f',), {'agent': {'messages': [AIMessage(content='', additional_kwargs={'tool_calls': [{'id': 'chatcmpl-tool-1f91e8ea35b243398005131b908dc5da', 'type': 'function', 'function': {'name': 'translate_query', 'arguments': '{\"code\": \"{\"}'}}]}, response_metadata={'token_usage': {'completion_tokens': 16, 'prompt_tokens': 1195, 'total_tokens': 1211}, 'model_name': 'meta-llama/llama-3-405b-instruct', 'system_fingerprint': '', 'finish_reason': 'tool_calls'}, id='chatcmpl-2deacc235681f7a13f78a79cdaca4f59', tool_calls=[{'name': 'translate_query', 'args': {'code': '{'}, 'id': 'chatcmpl-tool-1f91e8ea35b243398005131b908dc5da', 'type': 'tool_call'}], usage_metadata={'input_tokens': 1195, 'output_tokens': 16, 'total_tokens': 1211})]}})\n",
      "----\n",
      "(('cookbook:9d71c7b2-22c8-c0b4-f68a-595efd75ea5f',), {'tools': {'messages': [ToolMessage(content=' {\\'queries\\': [\\'{ \"$unwind\": \"$menu\" }\\', \\'{ \"$unwind\": \"$menu.piatti\" }\\', \\'{ \"$match\": { \"menu.piatti.ingredienti.nomeIngrediente\": { \"$ne\": \"basilico\" } } }\\']}', name='translate_query', id='d6336d38-5f84-44be-864f-7753149d88e4', tool_call_id='chatcmpl-tool-1f91e8ea35b243398005131b908dc5da')]}})\n",
      "----\n",
      "(('cookbook:9d71c7b2-22c8-c0b4-f68a-595efd75ea5f',), {'agent': {'messages': [AIMessage(content='', additional_kwargs={'tool_calls': [{'id': 'chatcmpl-tool-5859df06506a41af967051466f051a88', 'type': 'function', 'function': {'name': 'translate_query', 'arguments': '{\"code\": \"{\"}'}}]}, response_metadata={'token_usage': {'completion_tokens': 16, 'prompt_tokens': 1282, 'total_tokens': 1298}, 'model_name': 'meta-llama/llama-3-405b-instruct', 'system_fingerprint': '', 'finish_reason': 'tool_calls'}, id='chatcmpl-970cad578ed1ff8010927b38f535d6dc', tool_calls=[{'name': 'translate_query', 'args': {'code': '{'}, 'id': 'chatcmpl-tool-5859df06506a41af967051466f051a88', 'type': 'tool_call'}], usage_metadata={'input_tokens': 1282, 'output_tokens': 16, 'total_tokens': 1298})]}})\n",
      "----\n",
      "(('cookbook:9d71c7b2-22c8-c0b4-f68a-595efd75ea5f',), {'tools': {'messages': [ToolMessage(content=' {\\'queries\\': [\\'{ \"$unwind\": \"$menu\" }\\', \\'{ \"$unwind\": \"$menu.piatti\" }\\', \\'{ \"$match\": { \"menu.piatti.ingredienti.nomeIngrediente\": { \"$ne\": \"basilico\" } } }\\']}', name='translate_query', id='c27a1132-7875-4301-827a-ae7644cab838', tool_call_id='chatcmpl-tool-5859df06506a41af967051466f051a88')]}})\n",
      "----\n"
     ]
    },
    {
     "ename": "GraphRecursionError",
     "evalue": "Recursion limit of 25 reached without hitting a stop condition. You can increase the limit by setting the `recursion_limit` config key.\nFor troubleshooting, visit: https://python.langchain.com/docs/troubleshooting/errors/GRAPH_RECURSION_LIMIT",
     "output_type": "error",
     "traceback": [
      "\u001b[1;31m---------------------------------------------------------------------------\u001b[0m",
      "\u001b[1;31mGraphRecursionError\u001b[0m                       Traceback (most recent call last)",
      "Cell \u001b[1;32mIn[13], line 1\u001b[0m\n\u001b[1;32m----> 1\u001b[0m \u001b[38;5;28;43;01mfor\u001b[39;49;00m\u001b[43m \u001b[49m\u001b[43ms\u001b[49m\u001b[43m \u001b[49m\u001b[38;5;129;43;01min\u001b[39;49;00m\u001b[43m \u001b[49m\u001b[43mgraph\u001b[49m\u001b[38;5;241;43m.\u001b[39;49m\u001b[43mstream\u001b[49m\u001b[43m(\u001b[49m\n\u001b[0;32m      2\u001b[0m \u001b[43m    \u001b[49m\u001b[43m{\u001b[49m\u001b[38;5;124;43m\"\u001b[39;49m\u001b[38;5;124;43mmessages\u001b[39;49m\u001b[38;5;124;43m\"\u001b[39;49m\u001b[43m:\u001b[49m\u001b[43m \u001b[49m\u001b[43m[\u001b[49m\u001b[43m(\u001b[49m\u001b[38;5;124;43m\"\u001b[39;49m\u001b[38;5;124;43muser\u001b[39;49m\u001b[38;5;124;43m\"\u001b[39;49m\u001b[43m,\u001b[49m\u001b[43m \u001b[49m\u001b[38;5;124;43m\"\u001b[39;49m\u001b[38;5;124;43mWhich plate have riso inside?\u001b[39;49m\u001b[38;5;124;43m\"\u001b[39;49m\u001b[43m)\u001b[49m\u001b[43m]\u001b[49m\u001b[43m}\u001b[49m\u001b[43m,\u001b[49m\u001b[43m \u001b[49m\u001b[43msubgraphs\u001b[49m\u001b[38;5;241;43m=\u001b[39;49m\u001b[38;5;28;43;01mTrue\u001b[39;49;00m\n\u001b[0;32m      3\u001b[0m \u001b[43m)\u001b[49m\u001b[43m:\u001b[49m\n\u001b[0;32m      4\u001b[0m \u001b[43m    \u001b[49m\u001b[38;5;28;43mprint\u001b[39;49m\u001b[43m(\u001b[49m\u001b[43ms\u001b[49m\u001b[43m)\u001b[49m\n\u001b[0;32m      5\u001b[0m \u001b[43m    \u001b[49m\u001b[38;5;28;43mprint\u001b[39;49m\u001b[43m(\u001b[49m\u001b[38;5;124;43m\"\u001b[39;49m\u001b[38;5;124;43m----\u001b[39;49m\u001b[38;5;124;43m\"\u001b[39;49m\u001b[43m)\u001b[49m\n",
      "File \u001b[1;32mc:\\Users\\e.morucci\\Desktop\\Hackapizza\\Repo\\hakapizza\\venv\\Lib\\site-packages\\langgraph\\pregel\\__init__.py:1670\u001b[0m, in \u001b[0;36mPregel.stream\u001b[1;34m(self, input, config, stream_mode, output_keys, interrupt_before, interrupt_after, debug, subgraphs)\u001b[0m\n\u001b[0;32m   1664\u001b[0m     \u001b[38;5;66;03m# Similarly to Bulk Synchronous Parallel / Pregel model\u001b[39;00m\n\u001b[0;32m   1665\u001b[0m     \u001b[38;5;66;03m# computation proceeds in steps, while there are channel updates.\u001b[39;00m\n\u001b[0;32m   1666\u001b[0m     \u001b[38;5;66;03m# Channel updates from step N are only visible in step N+1\u001b[39;00m\n\u001b[0;32m   1667\u001b[0m     \u001b[38;5;66;03m# channels are guaranteed to be immutable for the duration of the step,\u001b[39;00m\n\u001b[0;32m   1668\u001b[0m     \u001b[38;5;66;03m# with channel updates applied only at the transition between steps.\u001b[39;00m\n\u001b[0;32m   1669\u001b[0m     \u001b[38;5;28;01mwhile\u001b[39;00m loop\u001b[38;5;241m.\u001b[39mtick(input_keys\u001b[38;5;241m=\u001b[39m\u001b[38;5;28mself\u001b[39m\u001b[38;5;241m.\u001b[39minput_channels):\n\u001b[1;32m-> 1670\u001b[0m \u001b[43m        \u001b[49m\u001b[38;5;28;43;01mfor\u001b[39;49;00m\u001b[43m \u001b[49m\u001b[43m_\u001b[49m\u001b[43m \u001b[49m\u001b[38;5;129;43;01min\u001b[39;49;00m\u001b[43m \u001b[49m\u001b[43mrunner\u001b[49m\u001b[38;5;241;43m.\u001b[39;49m\u001b[43mtick\u001b[49m\u001b[43m(\u001b[49m\n\u001b[0;32m   1671\u001b[0m \u001b[43m            \u001b[49m\u001b[43mloop\u001b[49m\u001b[38;5;241;43m.\u001b[39;49m\u001b[43mtasks\u001b[49m\u001b[38;5;241;43m.\u001b[39;49m\u001b[43mvalues\u001b[49m\u001b[43m(\u001b[49m\u001b[43m)\u001b[49m\u001b[43m,\u001b[49m\n\u001b[0;32m   1672\u001b[0m \u001b[43m            \u001b[49m\u001b[43mtimeout\u001b[49m\u001b[38;5;241;43m=\u001b[39;49m\u001b[38;5;28;43mself\u001b[39;49m\u001b[38;5;241;43m.\u001b[39;49m\u001b[43mstep_timeout\u001b[49m\u001b[43m,\u001b[49m\n\u001b[0;32m   1673\u001b[0m \u001b[43m            \u001b[49m\u001b[43mretry_policy\u001b[49m\u001b[38;5;241;43m=\u001b[39;49m\u001b[38;5;28;43mself\u001b[39;49m\u001b[38;5;241;43m.\u001b[39;49m\u001b[43mretry_policy\u001b[49m\u001b[43m,\u001b[49m\n\u001b[0;32m   1674\u001b[0m \u001b[43m            \u001b[49m\u001b[43mget_waiter\u001b[49m\u001b[38;5;241;43m=\u001b[39;49m\u001b[43mget_waiter\u001b[49m\u001b[43m,\u001b[49m\n\u001b[0;32m   1675\u001b[0m \u001b[43m        \u001b[49m\u001b[43m)\u001b[49m\u001b[43m:\u001b[49m\n\u001b[0;32m   1676\u001b[0m \u001b[43m            \u001b[49m\u001b[38;5;66;43;03m# emit output\u001b[39;49;00m\n\u001b[0;32m   1677\u001b[0m \u001b[43m            \u001b[49m\u001b[38;5;28;43;01myield from\u001b[39;49;00m\u001b[43m \u001b[49m\u001b[43moutput\u001b[49m\u001b[43m(\u001b[49m\u001b[43m)\u001b[49m\n\u001b[0;32m   1678\u001b[0m \u001b[38;5;66;03m# emit output\u001b[39;00m\n",
      "File \u001b[1;32mc:\\Users\\e.morucci\\Desktop\\Hackapizza\\Repo\\hakapizza\\venv\\Lib\\site-packages\\langgraph\\pregel\\runner.py:245\u001b[0m, in \u001b[0;36mPregelRunner.tick\u001b[1;34m(self, tasks, reraise, timeout, retry_policy, get_waiter)\u001b[0m\n\u001b[0;32m    243\u001b[0m time\u001b[38;5;241m.\u001b[39msleep(\u001b[38;5;241m0\u001b[39m)\n\u001b[0;32m    244\u001b[0m \u001b[38;5;66;03m# panic on failure or timeout\u001b[39;00m\n\u001b[1;32m--> 245\u001b[0m \u001b[43m_panic_or_proceed\u001b[49m\u001b[43m(\u001b[49m\n\u001b[0;32m    246\u001b[0m \u001b[43m    \u001b[49m\u001b[43mdone_futures\u001b[49m\u001b[38;5;241;43m.\u001b[39;49m\u001b[43munion\u001b[49m\u001b[43m(\u001b[49m\u001b[43mf\u001b[49m\u001b[43m \u001b[49m\u001b[38;5;28;43;01mfor\u001b[39;49;00m\u001b[43m \u001b[49m\u001b[43mf\u001b[49m\u001b[43m,\u001b[49m\u001b[43m \u001b[49m\u001b[43mt\u001b[49m\u001b[43m \u001b[49m\u001b[38;5;129;43;01min\u001b[39;49;00m\u001b[43m \u001b[49m\u001b[43mfutures\u001b[49m\u001b[38;5;241;43m.\u001b[39;49m\u001b[43mitems\u001b[49m\u001b[43m(\u001b[49m\u001b[43m)\u001b[49m\u001b[43m \u001b[49m\u001b[38;5;28;43;01mif\u001b[39;49;00m\u001b[43m \u001b[49m\u001b[43mt\u001b[49m\u001b[43m \u001b[49m\u001b[38;5;129;43;01mis\u001b[39;49;00m\u001b[43m \u001b[49m\u001b[38;5;129;43;01mnot\u001b[39;49;00m\u001b[43m \u001b[49m\u001b[38;5;28;43;01mNone\u001b[39;49;00m\u001b[43m)\u001b[49m\u001b[43m,\u001b[49m\n\u001b[0;32m    247\u001b[0m \u001b[43m    \u001b[49m\u001b[43mpanic\u001b[49m\u001b[38;5;241;43m=\u001b[39;49m\u001b[43mreraise\u001b[49m\u001b[43m,\u001b[49m\n\u001b[0;32m    248\u001b[0m \u001b[43m\u001b[49m\u001b[43m)\u001b[49m\n",
      "File \u001b[1;32mc:\\Users\\e.morucci\\Desktop\\Hackapizza\\Repo\\hakapizza\\venv\\Lib\\site-packages\\langgraph\\pregel\\runner.py:549\u001b[0m, in \u001b[0;36m_panic_or_proceed\u001b[1;34m(futs, timeout_exc_cls, panic)\u001b[0m\n\u001b[0;32m    547\u001b[0m         \u001b[38;5;66;03m# raise the exception\u001b[39;00m\n\u001b[0;32m    548\u001b[0m         \u001b[38;5;28;01mif\u001b[39;00m panic:\n\u001b[1;32m--> 549\u001b[0m             \u001b[38;5;28;01mraise\u001b[39;00m exc\n\u001b[0;32m    550\u001b[0m \u001b[38;5;28;01mif\u001b[39;00m inflight:\n\u001b[0;32m    551\u001b[0m     \u001b[38;5;66;03m# if we got here means we timed out\u001b[39;00m\n\u001b[0;32m    552\u001b[0m     \u001b[38;5;28;01mwhile\u001b[39;00m inflight:\n\u001b[0;32m    553\u001b[0m         \u001b[38;5;66;03m# cancel all pending tasks\u001b[39;00m\n",
      "File \u001b[1;32mc:\\Users\\e.morucci\\Desktop\\Hackapizza\\Repo\\hakapizza\\venv\\Lib\\site-packages\\langgraph\\pregel\\executor.py:83\u001b[0m, in \u001b[0;36mBackgroundExecutor.done\u001b[1;34m(self, task)\u001b[0m\n\u001b[0;32m     81\u001b[0m \u001b[38;5;250m\u001b[39m\u001b[38;5;124;03m\"\"\"Remove the task from the tasks dict when it's done.\"\"\"\u001b[39;00m\n\u001b[0;32m     82\u001b[0m \u001b[38;5;28;01mtry\u001b[39;00m:\n\u001b[1;32m---> 83\u001b[0m     \u001b[43mtask\u001b[49m\u001b[38;5;241;43m.\u001b[39;49m\u001b[43mresult\u001b[49m\u001b[43m(\u001b[49m\u001b[43m)\u001b[49m\n\u001b[0;32m     84\u001b[0m \u001b[38;5;28;01mexcept\u001b[39;00m GraphBubbleUp:\n\u001b[0;32m     85\u001b[0m     \u001b[38;5;66;03m# This exception is an interruption signal, not an error\u001b[39;00m\n\u001b[0;32m     86\u001b[0m     \u001b[38;5;66;03m# so we don't want to re-raise it on exit\u001b[39;00m\n\u001b[0;32m     87\u001b[0m     \u001b[38;5;28mself\u001b[39m\u001b[38;5;241m.\u001b[39mtasks\u001b[38;5;241m.\u001b[39mpop(task)\n",
      "File \u001b[1;32mC:\\Program Files\\WindowsApps\\PythonSoftwareFoundation.Python.3.11_3.11.2544.0_x64__qbz5n2kfra8p0\\Lib\\concurrent\\futures\\_base.py:449\u001b[0m, in \u001b[0;36mFuture.result\u001b[1;34m(self, timeout)\u001b[0m\n\u001b[0;32m    447\u001b[0m     \u001b[38;5;28;01mraise\u001b[39;00m CancelledError()\n\u001b[0;32m    448\u001b[0m \u001b[38;5;28;01melif\u001b[39;00m \u001b[38;5;28mself\u001b[39m\u001b[38;5;241m.\u001b[39m_state \u001b[38;5;241m==\u001b[39m FINISHED:\n\u001b[1;32m--> 449\u001b[0m     \u001b[38;5;28;01mreturn\u001b[39;00m \u001b[38;5;28;43mself\u001b[39;49m\u001b[38;5;241;43m.\u001b[39;49m\u001b[43m__get_result\u001b[49m\u001b[43m(\u001b[49m\u001b[43m)\u001b[49m\n\u001b[0;32m    451\u001b[0m \u001b[38;5;28mself\u001b[39m\u001b[38;5;241m.\u001b[39m_condition\u001b[38;5;241m.\u001b[39mwait(timeout)\n\u001b[0;32m    453\u001b[0m \u001b[38;5;28;01mif\u001b[39;00m \u001b[38;5;28mself\u001b[39m\u001b[38;5;241m.\u001b[39m_state \u001b[38;5;129;01min\u001b[39;00m [CANCELLED, CANCELLED_AND_NOTIFIED]:\n",
      "File \u001b[1;32mC:\\Program Files\\WindowsApps\\PythonSoftwareFoundation.Python.3.11_3.11.2544.0_x64__qbz5n2kfra8p0\\Lib\\concurrent\\futures\\_base.py:401\u001b[0m, in \u001b[0;36mFuture.__get_result\u001b[1;34m(self)\u001b[0m\n\u001b[0;32m    399\u001b[0m \u001b[38;5;28;01mif\u001b[39;00m \u001b[38;5;28mself\u001b[39m\u001b[38;5;241m.\u001b[39m_exception:\n\u001b[0;32m    400\u001b[0m     \u001b[38;5;28;01mtry\u001b[39;00m:\n\u001b[1;32m--> 401\u001b[0m         \u001b[38;5;28;01mraise\u001b[39;00m \u001b[38;5;28mself\u001b[39m\u001b[38;5;241m.\u001b[39m_exception\n\u001b[0;32m    402\u001b[0m     \u001b[38;5;28;01mfinally\u001b[39;00m:\n\u001b[0;32m    403\u001b[0m         \u001b[38;5;66;03m# Break a reference cycle with the exception in self._exception\u001b[39;00m\n\u001b[0;32m    404\u001b[0m         \u001b[38;5;28mself\u001b[39m \u001b[38;5;241m=\u001b[39m \u001b[38;5;28;01mNone\u001b[39;00m\n",
      "File \u001b[1;32mC:\\Program Files\\WindowsApps\\PythonSoftwareFoundation.Python.3.11_3.11.2544.0_x64__qbz5n2kfra8p0\\Lib\\concurrent\\futures\\thread.py:58\u001b[0m, in \u001b[0;36m_WorkItem.run\u001b[1;34m(self)\u001b[0m\n\u001b[0;32m     55\u001b[0m     \u001b[38;5;28;01mreturn\u001b[39;00m\n\u001b[0;32m     57\u001b[0m \u001b[38;5;28;01mtry\u001b[39;00m:\n\u001b[1;32m---> 58\u001b[0m     result \u001b[38;5;241m=\u001b[39m \u001b[38;5;28;43mself\u001b[39;49m\u001b[38;5;241;43m.\u001b[39;49m\u001b[43mfn\u001b[49m\u001b[43m(\u001b[49m\u001b[38;5;241;43m*\u001b[39;49m\u001b[38;5;28;43mself\u001b[39;49m\u001b[38;5;241;43m.\u001b[39;49m\u001b[43margs\u001b[49m\u001b[43m,\u001b[49m\u001b[43m \u001b[49m\u001b[38;5;241;43m*\u001b[39;49m\u001b[38;5;241;43m*\u001b[39;49m\u001b[38;5;28;43mself\u001b[39;49m\u001b[38;5;241;43m.\u001b[39;49m\u001b[43mkwargs\u001b[49m\u001b[43m)\u001b[49m\n\u001b[0;32m     59\u001b[0m \u001b[38;5;28;01mexcept\u001b[39;00m \u001b[38;5;167;01mBaseException\u001b[39;00m \u001b[38;5;28;01mas\u001b[39;00m exc:\n\u001b[0;32m     60\u001b[0m     \u001b[38;5;28mself\u001b[39m\u001b[38;5;241m.\u001b[39mfuture\u001b[38;5;241m.\u001b[39mset_exception(exc)\n",
      "File \u001b[1;32mc:\\Users\\e.morucci\\Desktop\\Hackapizza\\Repo\\hakapizza\\venv\\Lib\\site-packages\\langgraph\\pregel\\retry.py:40\u001b[0m, in \u001b[0;36mrun_with_retry\u001b[1;34m(task, retry_policy, configurable)\u001b[0m\n\u001b[0;32m     38\u001b[0m     task\u001b[38;5;241m.\u001b[39mwrites\u001b[38;5;241m.\u001b[39mclear()\n\u001b[0;32m     39\u001b[0m     \u001b[38;5;66;03m# run the task\u001b[39;00m\n\u001b[1;32m---> 40\u001b[0m     \u001b[38;5;28;01mreturn\u001b[39;00m \u001b[43mtask\u001b[49m\u001b[38;5;241;43m.\u001b[39;49m\u001b[43mproc\u001b[49m\u001b[38;5;241;43m.\u001b[39;49m\u001b[43minvoke\u001b[49m\u001b[43m(\u001b[49m\u001b[43mtask\u001b[49m\u001b[38;5;241;43m.\u001b[39;49m\u001b[43minput\u001b[49m\u001b[43m,\u001b[49m\u001b[43m \u001b[49m\u001b[43mconfig\u001b[49m\u001b[43m)\u001b[49m\n\u001b[0;32m     41\u001b[0m \u001b[38;5;28;01mexcept\u001b[39;00m ParentCommand \u001b[38;5;28;01mas\u001b[39;00m exc:\n\u001b[0;32m     42\u001b[0m     ns: \u001b[38;5;28mstr\u001b[39m \u001b[38;5;241m=\u001b[39m config[CONF][CONFIG_KEY_CHECKPOINT_NS]\n",
      "File \u001b[1;32mc:\\Users\\e.morucci\\Desktop\\Hackapizza\\Repo\\hakapizza\\venv\\Lib\\site-packages\\langgraph\\utils\\runnable.py:448\u001b[0m, in \u001b[0;36mRunnableSeq.invoke\u001b[1;34m(self, input, config, **kwargs)\u001b[0m\n\u001b[0;32m    444\u001b[0m config \u001b[38;5;241m=\u001b[39m patch_config(\n\u001b[0;32m    445\u001b[0m     config, callbacks\u001b[38;5;241m=\u001b[39mrun_manager\u001b[38;5;241m.\u001b[39mget_child(\u001b[38;5;124mf\u001b[39m\u001b[38;5;124m\"\u001b[39m\u001b[38;5;124mseq:step:\u001b[39m\u001b[38;5;132;01m{\u001b[39;00mi\u001b[38;5;241m+\u001b[39m\u001b[38;5;241m1\u001b[39m\u001b[38;5;132;01m}\u001b[39;00m\u001b[38;5;124m\"\u001b[39m)\n\u001b[0;32m    446\u001b[0m )\n\u001b[0;32m    447\u001b[0m \u001b[38;5;28;01mif\u001b[39;00m i \u001b[38;5;241m==\u001b[39m \u001b[38;5;241m0\u001b[39m:\n\u001b[1;32m--> 448\u001b[0m     \u001b[38;5;28minput\u001b[39m \u001b[38;5;241m=\u001b[39m \u001b[43mstep\u001b[49m\u001b[38;5;241;43m.\u001b[39;49m\u001b[43minvoke\u001b[49m\u001b[43m(\u001b[49m\u001b[38;5;28;43minput\u001b[39;49m\u001b[43m,\u001b[49m\u001b[43m \u001b[49m\u001b[43mconfig\u001b[49m\u001b[43m,\u001b[49m\u001b[43m \u001b[49m\u001b[38;5;241;43m*\u001b[39;49m\u001b[38;5;241;43m*\u001b[39;49m\u001b[43mkwargs\u001b[49m\u001b[43m)\u001b[49m\n\u001b[0;32m    449\u001b[0m \u001b[38;5;28;01melse\u001b[39;00m:\n\u001b[0;32m    450\u001b[0m     \u001b[38;5;28minput\u001b[39m \u001b[38;5;241m=\u001b[39m step\u001b[38;5;241m.\u001b[39minvoke(\u001b[38;5;28minput\u001b[39m, config)\n",
      "File \u001b[1;32mc:\\Users\\e.morucci\\Desktop\\Hackapizza\\Repo\\hakapizza\\venv\\Lib\\site-packages\\langgraph\\utils\\runnable.py:219\u001b[0m, in \u001b[0;36mRunnableCallable.invoke\u001b[1;34m(self, input, config, **kwargs)\u001b[0m\n\u001b[0;32m    217\u001b[0m \u001b[38;5;28;01melse\u001b[39;00m:\n\u001b[0;32m    218\u001b[0m     context\u001b[38;5;241m.\u001b[39mrun(_set_config_context, config)\n\u001b[1;32m--> 219\u001b[0m     ret \u001b[38;5;241m=\u001b[39m \u001b[43mcontext\u001b[49m\u001b[38;5;241;43m.\u001b[39;49m\u001b[43mrun\u001b[49m\u001b[43m(\u001b[49m\u001b[38;5;28;43mself\u001b[39;49m\u001b[38;5;241;43m.\u001b[39;49m\u001b[43mfunc\u001b[49m\u001b[43m,\u001b[49m\u001b[43m \u001b[49m\u001b[38;5;28;43minput\u001b[39;49m\u001b[43m,\u001b[49m\u001b[43m \u001b[49m\u001b[38;5;241;43m*\u001b[39;49m\u001b[38;5;241;43m*\u001b[39;49m\u001b[43mkwargs\u001b[49m\u001b[43m)\u001b[49m\n\u001b[0;32m    220\u001b[0m \u001b[38;5;28;01mif\u001b[39;00m \u001b[38;5;28misinstance\u001b[39m(ret, Runnable) \u001b[38;5;129;01mand\u001b[39;00m \u001b[38;5;28mself\u001b[39m\u001b[38;5;241m.\u001b[39mrecurse:\n\u001b[0;32m    221\u001b[0m     \u001b[38;5;28;01mreturn\u001b[39;00m ret\u001b[38;5;241m.\u001b[39minvoke(\u001b[38;5;28minput\u001b[39m, config)\n",
      "Cell \u001b[1;32mIn[10], line 6\u001b[0m, in \u001b[0;36mcookbook_node\u001b[1;34m(state)\u001b[0m\n\u001b[0;32m      5\u001b[0m \u001b[38;5;28;01mdef\u001b[39;00m\u001b[38;5;250m \u001b[39m\u001b[38;5;21mcookbook_node\u001b[39m(state: State) \u001b[38;5;241m-\u001b[39m\u001b[38;5;241m>\u001b[39m Command[Literal[\u001b[38;5;124m\"\u001b[39m\u001b[38;5;124msupervisor\u001b[39m\u001b[38;5;124m\"\u001b[39m]]:\n\u001b[1;32m----> 6\u001b[0m     result \u001b[38;5;241m=\u001b[39m \u001b[43mcookbook_agent\u001b[49m\u001b[38;5;241;43m.\u001b[39;49m\u001b[43minvoke\u001b[49m\u001b[43m(\u001b[49m\u001b[43mstate\u001b[49m\u001b[43m)\u001b[49m\n\u001b[0;32m      7\u001b[0m     \u001b[38;5;28;01mreturn\u001b[39;00m Command(\n\u001b[0;32m      8\u001b[0m         update\u001b[38;5;241m=\u001b[39m{\n\u001b[0;32m      9\u001b[0m             \u001b[38;5;124m\"\u001b[39m\u001b[38;5;124mmessages\u001b[39m\u001b[38;5;124m\"\u001b[39m: [\n\u001b[1;32m   (...)\u001b[0m\n\u001b[0;32m     13\u001b[0m         goto\u001b[38;5;241m=\u001b[39m\u001b[38;5;124m\"\u001b[39m\u001b[38;5;124msupervisor\u001b[39m\u001b[38;5;124m\"\u001b[39m,\n\u001b[0;32m     14\u001b[0m     )\n",
      "File \u001b[1;32mc:\\Users\\e.morucci\\Desktop\\Hackapizza\\Repo\\hakapizza\\venv\\Lib\\site-packages\\langgraph\\pregel\\__init__.py:1961\u001b[0m, in \u001b[0;36mPregel.invoke\u001b[1;34m(self, input, config, stream_mode, output_keys, interrupt_before, interrupt_after, debug, **kwargs)\u001b[0m\n\u001b[0;32m   1959\u001b[0m \u001b[38;5;28;01melse\u001b[39;00m:\n\u001b[0;32m   1960\u001b[0m     chunks \u001b[38;5;241m=\u001b[39m []\n\u001b[1;32m-> 1961\u001b[0m \u001b[43m\u001b[49m\u001b[38;5;28;43;01mfor\u001b[39;49;00m\u001b[43m \u001b[49m\u001b[43mchunk\u001b[49m\u001b[43m \u001b[49m\u001b[38;5;129;43;01min\u001b[39;49;00m\u001b[43m \u001b[49m\u001b[38;5;28;43mself\u001b[39;49m\u001b[38;5;241;43m.\u001b[39;49m\u001b[43mstream\u001b[49m\u001b[43m(\u001b[49m\n\u001b[0;32m   1962\u001b[0m \u001b[43m    \u001b[49m\u001b[38;5;28;43minput\u001b[39;49m\u001b[43m,\u001b[49m\n\u001b[0;32m   1963\u001b[0m \u001b[43m    \u001b[49m\u001b[43mconfig\u001b[49m\u001b[43m,\u001b[49m\n\u001b[0;32m   1964\u001b[0m \u001b[43m    \u001b[49m\u001b[43mstream_mode\u001b[49m\u001b[38;5;241;43m=\u001b[39;49m\u001b[43mstream_mode\u001b[49m\u001b[43m,\u001b[49m\n\u001b[0;32m   1965\u001b[0m \u001b[43m    \u001b[49m\u001b[43moutput_keys\u001b[49m\u001b[38;5;241;43m=\u001b[39;49m\u001b[43moutput_keys\u001b[49m\u001b[43m,\u001b[49m\n\u001b[0;32m   1966\u001b[0m \u001b[43m    \u001b[49m\u001b[43minterrupt_before\u001b[49m\u001b[38;5;241;43m=\u001b[39;49m\u001b[43minterrupt_before\u001b[49m\u001b[43m,\u001b[49m\n\u001b[0;32m   1967\u001b[0m \u001b[43m    \u001b[49m\u001b[43minterrupt_after\u001b[49m\u001b[38;5;241;43m=\u001b[39;49m\u001b[43minterrupt_after\u001b[49m\u001b[43m,\u001b[49m\n\u001b[0;32m   1968\u001b[0m \u001b[43m    \u001b[49m\u001b[43mdebug\u001b[49m\u001b[38;5;241;43m=\u001b[39;49m\u001b[43mdebug\u001b[49m\u001b[43m,\u001b[49m\n\u001b[0;32m   1969\u001b[0m \u001b[43m    \u001b[49m\u001b[38;5;241;43m*\u001b[39;49m\u001b[38;5;241;43m*\u001b[39;49m\u001b[43mkwargs\u001b[49m\u001b[43m,\u001b[49m\n\u001b[0;32m   1970\u001b[0m \u001b[43m\u001b[49m\u001b[43m)\u001b[49m\u001b[43m:\u001b[49m\n\u001b[0;32m   1971\u001b[0m \u001b[43m    \u001b[49m\u001b[38;5;28;43;01mif\u001b[39;49;00m\u001b[43m \u001b[49m\u001b[43mstream_mode\u001b[49m\u001b[43m \u001b[49m\u001b[38;5;241;43m==\u001b[39;49m\u001b[43m \u001b[49m\u001b[38;5;124;43m\"\u001b[39;49m\u001b[38;5;124;43mvalues\u001b[39;49m\u001b[38;5;124;43m\"\u001b[39;49m\u001b[43m:\u001b[49m\n\u001b[0;32m   1972\u001b[0m \u001b[43m        \u001b[49m\u001b[43mlatest\u001b[49m\u001b[43m \u001b[49m\u001b[38;5;241;43m=\u001b[39;49m\u001b[43m \u001b[49m\u001b[43mchunk\u001b[49m\n",
      "File \u001b[1;32mc:\\Users\\e.morucci\\Desktop\\Hackapizza\\Repo\\hakapizza\\venv\\Lib\\site-packages\\langgraph\\pregel\\__init__.py:1690\u001b[0m, in \u001b[0;36mPregel.stream\u001b[1;34m(self, input, config, stream_mode, output_keys, interrupt_before, interrupt_after, debug, subgraphs)\u001b[0m\n\u001b[0;32m   1681\u001b[0m \u001b[38;5;28;01mif\u001b[39;00m loop\u001b[38;5;241m.\u001b[39mstatus \u001b[38;5;241m==\u001b[39m \u001b[38;5;124m\"\u001b[39m\u001b[38;5;124mout_of_steps\u001b[39m\u001b[38;5;124m\"\u001b[39m:\n\u001b[0;32m   1682\u001b[0m     msg \u001b[38;5;241m=\u001b[39m create_error_message(\n\u001b[0;32m   1683\u001b[0m         message\u001b[38;5;241m=\u001b[39m(\n\u001b[0;32m   1684\u001b[0m             \u001b[38;5;124mf\u001b[39m\u001b[38;5;124m\"\u001b[39m\u001b[38;5;124mRecursion limit of \u001b[39m\u001b[38;5;132;01m{\u001b[39;00mconfig[\u001b[38;5;124m'\u001b[39m\u001b[38;5;124mrecursion_limit\u001b[39m\u001b[38;5;124m'\u001b[39m]\u001b[38;5;132;01m}\u001b[39;00m\u001b[38;5;124m reached \u001b[39m\u001b[38;5;124m\"\u001b[39m\n\u001b[1;32m   (...)\u001b[0m\n\u001b[0;32m   1688\u001b[0m         error_code\u001b[38;5;241m=\u001b[39mErrorCode\u001b[38;5;241m.\u001b[39mGRAPH_RECURSION_LIMIT,\n\u001b[0;32m   1689\u001b[0m     )\n\u001b[1;32m-> 1690\u001b[0m     \u001b[38;5;28;01mraise\u001b[39;00m GraphRecursionError(msg)\n\u001b[0;32m   1691\u001b[0m \u001b[38;5;66;03m# set final channel values as run output\u001b[39;00m\n\u001b[0;32m   1692\u001b[0m run_manager\u001b[38;5;241m.\u001b[39mon_chain_end(loop\u001b[38;5;241m.\u001b[39moutput)\n",
      "\u001b[1;31mGraphRecursionError\u001b[0m: Recursion limit of 25 reached without hitting a stop condition. You can increase the limit by setting the `recursion_limit` config key.\nFor troubleshooting, visit: https://python.langchain.com/docs/troubleshooting/errors/GRAPH_RECURSION_LIMIT",
      "\u001b[0mDuring task with name 'cookbook' and id '9d71c7b2-22c8-c0b4-f68a-595efd75ea5f'"
     ]
    }
   ],
   "source": [
    "for s in graph.stream(\n",
    "    {\"messages\": [(\"user\", \"Which plate have riso inside?\")]}, subgraphs=True\n",
    "):\n",
    "    print(s)\n",
    "    print(\"----\")"
   ]
  },
  {
   "cell_type": "code",
   "execution_count": null,
   "metadata": {},
   "outputs": [],
   "source": []
  }
 ],
 "metadata": {
  "kernelspec": {
   "display_name": "venv",
   "language": "python",
   "name": "python3"
  },
  "language_info": {
   "codemirror_mode": {
    "name": "ipython",
    "version": 3
   },
   "file_extension": ".py",
   "mimetype": "text/x-python",
   "name": "python",
   "nbconvert_exporter": "python",
   "pygments_lexer": "ipython3",
   "version": "3.11.9"
  }
 },
 "nbformat": 4,
 "nbformat_minor": 2
}
